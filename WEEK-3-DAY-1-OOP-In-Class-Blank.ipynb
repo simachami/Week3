{
 "cells": [
  {
   "cell_type": "markdown",
   "metadata": {},
   "source": [
    "# Object-Oriented-Programming (OOP)"
   ]
  },
  {
   "cell_type": "markdown",
   "metadata": {},
   "source": [
    "## Tasks Today:\n",
    "\n",
    "   \n",
    "\n",
    "1) <b>Creating a Class (Initializing/Declaring)</b> <br>\n",
    "2) <b>Using a Class (Instantiating)</b> <br>\n",
    " &nbsp;&nbsp;&nbsp;&nbsp; a) Creating One Instance <br>\n",
    " &nbsp;&nbsp;&nbsp;&nbsp; b) Creating Multiple Instances <br>\n",
    " &nbsp;&nbsp;&nbsp;&nbsp; c) In-Class Exercise #1 - Create a Class 'Car' and instantiate three different makes of cars <br>\n",
    "3) <b>The \\__init\\__() Method</b> <br>\n",
    " &nbsp;&nbsp;&nbsp;&nbsp; a) The 'self' Attribute <br>\n",
    "4) <b>Class Attributes</b> <br>\n",
    " &nbsp;&nbsp;&nbsp;&nbsp; a) Initializing Attributes <br>\n",
    " &nbsp;&nbsp;&nbsp;&nbsp; b) Setting an Attribute Outside of the \\__init\\__() Method <br>\n",
    " &nbsp;&nbsp;&nbsp;&nbsp; c) Setting Defaults for Attributes <br>\n",
    " &nbsp;&nbsp;&nbsp;&nbsp; d) Accessing Class Attributes <br>\n",
    " &nbsp;&nbsp;&nbsp;&nbsp; e) Changing Class Attributes <br>\n",
    " &nbsp;&nbsp;&nbsp;&nbsp; f) In-Class Exercise #2 - Add a color and wheels attribute to your 'Car' class <br>\n",
    "5) <b>Class Methods</b> <br>\n",
    " &nbsp;&nbsp;&nbsp;&nbsp; a) Creating <br>\n",
    " &nbsp;&nbsp;&nbsp;&nbsp; b) Calling <br>\n",
    " &nbsp;&nbsp;&nbsp;&nbsp; c) Modifying an Attribute's Value Through a Method <br>\n",
    " &nbsp;&nbsp;&nbsp;&nbsp; d) Incrementing an Attribute's Value Through a Method <br>\n",
    " &nbsp;&nbsp;&nbsp;&nbsp; e) In-Class Exercise #3 - Add a method that prints the cars color and wheel number, then call them <br>\n",
    "6) <b>Inheritance</b> <br>\n",
    " &nbsp;&nbsp;&nbsp;&nbsp; a) Syntax for Inheriting from a Parent Class <br>\n",
    " &nbsp;&nbsp;&nbsp;&nbsp; b) The \\__init\\__() Method for a Child Class (super()) <br>\n",
    " &nbsp;&nbsp;&nbsp;&nbsp; c) Defining Attributes and Methods for the Child Class <br>\n",
    " &nbsp;&nbsp;&nbsp;&nbsp; d) Method Overriding <br>\n",
    " &nbsp;&nbsp;&nbsp;&nbsp; e) In-Class Exercise #4 - Create a class 'Ford' that inherits from 'Car' class and initialize it as a Blue Ford Explorer with 4 wheels using the super() method <br>\n",
    "7) <b>Classes as Attributes</b> <br>\n",
    "8) <b>Exercises</b> <br>\n",
    " &nbsp;&nbsp;&nbsp;&nbsp; a) Exercise #1 - Turn the shopping cart program from yesterday into an object-oriented program <br>"
   ]
  },
  {
   "cell_type": "markdown",
   "metadata": {},
   "source": [
    "## Creating a Class (Initializing/Declaring)\n",
    "<p>When creating a class, function, or even a variable you are initializing that object. Initializing and Declaring occur at the same time in Python, whereas in lower level languages you have to declare an object before initializing it. This is the first step in the process of using a class.</p>"
   ]
  },
  {
   "cell_type": "code",
   "execution_count": 1,
   "metadata": {},
   "outputs": [],
   "source": [
    "class Car():\n",
    "    wheels = 4\n",
    "    color = 'blue'"
   ]
  },
  {
   "cell_type": "code",
   "execution_count": 7,
   "metadata": {},
   "outputs": [],
   "source": [
    "class Agent:\n",
    "    name = \"Smith\"\n",
    "    glasses_color = \"black\""
   ]
  },
  {
   "cell_type": "markdown",
   "metadata": {},
   "source": [
    "## Using a Class (Instantiating)\n",
    "<p>The process of creating a class is called <i>Instantiating</i>. Each time you create a variable of that type of class, it is referred to as an <i>Instance</i> of that class. This is the second step in the process of using a class.</p>"
   ]
  },
  {
   "cell_type": "markdown",
   "metadata": {},
   "source": [
    "##### Creating One Instance"
   ]
  },
  {
   "cell_type": "code",
   "execution_count": 5,
   "metadata": {},
   "outputs": [
    {
     "name": "stdout",
     "output_type": "stream",
     "text": [
      "pink after update\n"
     ]
    }
   ],
   "source": [
    "ford = Car()\n",
    "\n",
    "ford.wheels\n",
    "ford.color\n",
    "#you can update the list\n",
    "ford.color = 'pink'\n",
    "\n",
    "print(ford.color, 'after update')"
   ]
  },
  {
   "cell_type": "code",
   "execution_count": 8,
   "metadata": {},
   "outputs": [
    {
     "data": {
      "text/plain": [
       "'Smith'"
      ]
     },
     "execution_count": 8,
     "metadata": {},
     "output_type": "execute_result"
    }
   ],
   "source": [
    "agent = Agent()\n",
    "\n",
    "agent.name\n",
    "\n",
    "#error\n",
    "#agent.age attribute must exist"
   ]
  },
  {
   "cell_type": "markdown",
   "metadata": {},
   "source": [
    "##### Creating Multiple Instances"
   ]
  },
  {
   "cell_type": "code",
   "execution_count": 9,
   "metadata": {},
   "outputs": [
    {
     "name": "stdout",
     "output_type": "stream",
     "text": [
      "black\n",
      "black\n",
      "black\n"
     ]
    }
   ],
   "source": [
    "agent1 = Agent()\n",
    "agent2 = Agent()\n",
    "agent_sean = Agent()\n",
    "\n",
    "print(agent1.glasses_color)\n",
    "print(agent2.glasses_color)\n",
    "print(agent_sean.glasses_color)"
   ]
  },
  {
   "cell_type": "markdown",
   "metadata": {},
   "source": [
    "##### In-Class Exercise #1 - Create a Class 'Car' and Instantiate three different makes of cars"
   ]
  },
  {
   "cell_type": "code",
   "execution_count": 41,
   "metadata": {},
   "outputs": [
    {
     "data": {
      "text/plain": [
       "'mitsubishi'"
      ]
     },
     "execution_count": 41,
     "metadata": {},
     "output_type": "execute_result"
    }
   ],
   "source": [
    "class Car():\n",
    "    make = \"\"\n",
    "    model = \"\"\n",
    "    year = 0\n",
    "    \n",
    "mazda = Car()\n",
    "honda = Car()\n",
    "mitsubishi = Car()\n",
    "\n",
    "Car.make = 'mazda'\n",
    "Car.model = 'cx-5'\n",
    "Car.year = 2019\n",
    "Car.make = 'honda'\n",
    "Car.model = 'civic'\n",
    "Car.year = 2020\n",
    "Car.make = 'mitsubishi'\n",
    "Car.model = 'mirage'\n",
    "Car.year = 2021\n",
    "\n",
    "Car.make"
   ]
  },
  {
   "cell_type": "markdown",
   "metadata": {},
   "source": [
    "## The \\__init\\__() Method <br>\n",
    "<p>This method is used in almost every created class, and called only once upon the creation of the class instance. This method will initialize all variables needed for the object.</p>"
   ]
  },
  {
   "cell_type": "code",
   "execution_count": 26,
   "metadata": {},
   "outputs": [
    {
     "name": "stdout",
     "output_type": "stream",
     "text": [
      "Smith\n",
      "david\n",
      "tajay\n"
     ]
    }
   ],
   "source": [
    "class Agent:\n",
    "    name = 'Smith'\n",
    "    \n",
    "    def __init__(self,person_over_written, weapon):\n",
    "        self.person_over_written = person_over_written\n",
    "        self.weapon = weapon\n",
    "        \n",
    "agent = Agent('david', 'dessert eagle')\n",
    "agent1 = Agent('tajay', 'dessert eagle')\n",
    "\n",
    "print(agent.name)\n",
    "agent1.name\n",
    "\n",
    "print(agent.person_over_written)\n",
    "print(agent1.person_over_written)\n",
    "\n"
   ]
  },
  {
   "cell_type": "code",
   "execution_count": 43,
   "metadata": {},
   "outputs": [
    {
     "name": "stdout",
     "output_type": "stream",
     "text": [
      "honda fit 2006\n"
     ]
    },
    {
     "data": {
      "text/plain": [
       "4"
      ]
     },
     "execution_count": 43,
     "metadata": {},
     "output_type": "execute_result"
    }
   ],
   "source": [
    "class Car:\n",
    "    wheels = 4\n",
    "    \n",
    "    def __init__(self, make, model, year):\n",
    "        self.make = make\n",
    "        self.model = model\n",
    "        self.year = year\n",
    "    print(f'{car.make} {car.model} {car.year}')\n",
    "    \n",
    "    def __repr__(self):\n",
    "        return f'{self.make} {self.model} {self.year}'\n",
    "        \n",
    "car = Car('honda', 'fit', 2006)\n",
    "car2 = Car('honda', 'fit', 2006)\n",
    "car.wheels\n",
    "#f'{car.make} {car.model} {car.year}'"
   ]
  },
  {
   "cell_type": "markdown",
   "metadata": {},
   "source": [
    "##### The 'self' Attribute <br>\n",
    "<p>This attribute is required to keep track of specific instance's attributes. Without the self attribute, the program would not know how to reference or keep track of an instance's attributes.</p>"
   ]
  },
  {
   "cell_type": "code",
   "execution_count": null,
   "metadata": {},
   "outputs": [],
   "source": [
    "# see above\n",
    "\n"
   ]
  },
  {
   "cell_type": "markdown",
   "metadata": {},
   "source": [
    "## Class Attributes <br>\n",
    "<p>While variables are inside of a class, they are referred to as attributes and not variables. When someone says 'attribute' you know they're speaking about a class. Attributes can be initialized through the init method, or outside of it.</p>"
   ]
  },
  {
   "cell_type": "markdown",
   "metadata": {},
   "source": [
    "##### Initializing Attributes"
   ]
  },
  {
   "cell_type": "code",
   "execution_count": null,
   "metadata": {},
   "outputs": [],
   "source": [
    "# see above"
   ]
  },
  {
   "cell_type": "markdown",
   "metadata": {},
   "source": [
    "##### Accessing Class Attributes"
   ]
  },
  {
   "cell_type": "code",
   "execution_count": null,
   "metadata": {
    "scrolled": true
   },
   "outputs": [],
   "source": [
    "# See Above"
   ]
  },
  {
   "cell_type": "markdown",
   "metadata": {},
   "source": [
    "##### Setting Defaults for Attributes"
   ]
  },
  {
   "cell_type": "code",
   "execution_count": 27,
   "metadata": {},
   "outputs": [
    {
     "name": "stdout",
     "output_type": "stream",
     "text": [
      "dessert eagle\n"
     ]
    },
    {
     "data": {
      "text/plain": [
       "'glock'"
      ]
     },
     "execution_count": 27,
     "metadata": {},
     "output_type": "execute_result"
    }
   ],
   "source": [
    "class Agent:\n",
    "    name = 'Smith'\n",
    "    \n",
    "    def __init__(self,person_over_written, weapon='dessert eagle'):\n",
    "        self.person_over_written = person_over_written\n",
    "        self.weapon = weapon\n",
    "        \n",
    "agent = Agent('david', 'dessert eagle')\n",
    "agent1 = Agent('tajay', 'glock')\n",
    "\n",
    "print(agent.weapon)\n",
    "agent1.weapon"
   ]
  },
  {
   "cell_type": "markdown",
   "metadata": {},
   "source": [
    "##### Changing Class Attributes <br>\n",
    "<p>Keep in mind there are global class attributes and then there are attributes only available to each class instance which won't effect other classes.</p>"
   ]
  },
  {
   "cell_type": "code",
   "execution_count": 28,
   "metadata": {},
   "outputs": [
    {
     "name": "stdout",
     "output_type": "stream",
     "text": [
      "Smith\n",
      "Johnson\n",
      "Smith\n"
     ]
    }
   ],
   "source": [
    "print(agent.name)\n",
    "\n",
    "agent.name = 'Johnson'\n",
    "\n",
    "print(agent.name)\n",
    "print(agent2.name)"
   ]
  },
  {
   "cell_type": "code",
   "execution_count": 29,
   "metadata": {},
   "outputs": [
    {
     "data": {
      "text/plain": [
       "'Johnson'"
      ]
     },
     "execution_count": 29,
     "metadata": {},
     "output_type": "execute_result"
    }
   ],
   "source": [
    "Agent.name = 'Johnson'\n",
    "\n",
    "(agent1.name)"
   ]
  },
  {
   "cell_type": "markdown",
   "metadata": {},
   "source": [
    "##### In-Class Exercise #2 - Add a doors and seats attribute to your 'Car' class then print out two different instances with different doors and seats"
   ]
  },
  {
   "cell_type": "code",
   "execution_count": 40,
   "metadata": {},
   "outputs": [
    {
     "name": "stdout",
     "output_type": "stream",
     "text": [
      "mitsubishi 4\n"
     ]
    }
   ],
   "source": [
    "class Car():\n",
    "    make = \"\"\n",
    "    model = \"\"\n",
    "    year = 0\n",
    "    \n",
    "    def __init__(self,make,model,year,doors,seats):\n",
    "        self.make = make\n",
    "        self.model = model\n",
    "        self.year = year\n",
    "        \n"
   ]
  },
  {
   "cell_type": "markdown",
   "metadata": {},
   "source": [
    "## Class Methods <br>\n",
    "<p>While inside of a class, functions are referred to as 'methods'. If you hear someone mention methods, they're speaking about classes. Methods are essentially functions, but only callable on the instances of a class.</p>"
   ]
  },
  {
   "cell_type": "code",
   "execution_count": 44,
   "metadata": {},
   "outputs": [
    {
     "data": {
      "text/plain": [
       "'HELLO WORLD'"
      ]
     },
     "execution_count": 44,
     "metadata": {},
     "output_type": "execute_result"
    }
   ],
   "source": [
    "#string method\n",
    "\n",
    "'hello world'.upper()"
   ]
  },
  {
   "cell_type": "markdown",
   "metadata": {},
   "source": [
    "##### Creating"
   ]
  },
  {
   "cell_type": "code",
   "execution_count": null,
   "metadata": {},
   "outputs": [],
   "source": [
    "class HumanOfMatrixUniverse:\n",
    "    \n",
    "    '''\n",
    "        take a pill (make a decision) \n",
    "        get training\n",
    "        enter matrix\n",
    "        Attributes: name, fighting_styles, awake\n",
    "    '''\n",
    "    \n",
    "    def __init__(self, name, fighting_styles=[], awake=False):\n",
    "        self.name = name\n",
    "        self.fighting_styles = fighting_styles\n",
    "        self.awake = awake\n",
    "        \n",
    "    def driver(self):\n",
    "        '''\n",
    "        make decision\n",
    "        get training for matrix \n",
    "        look for additional styles\n",
    "        option to enter matrix \n",
    "        option to exit\n",
    "        do while\n",
    "        '''\n",
    "        while True:\n",
    "            self.pill_decision()\n",
    "            if self.awake:\n",
    "                self.train_fighting_styles()\n",
    "                more_training = input('Do you need additional training').lower()\n",
    "                if more_training == 'yes':\n",
    "                    train_specific_style(input(\"what style?\"))\n",
    "                    self.train_specific_style(fighting_style)\n",
    "                    self.enter_matrix()\n",
    "                    self.exit_matrix()\n",
    "                else:\n",
    "                    break\n",
    "\n",
    "    def pill_decision(self):\n",
    "        while True:\n",
    "            pill = input(\"red pill down the rabbit hole, blue pill believe what you will: \").lower()\n",
    "            if pill == 'red':\n",
    "                self.awake = True\n",
    "            elif pill == 'blue':\n",
    "                self.awake = False\n",
    "            else:\n",
    "                print(\"please enter valid response: red/blue\")\n",
    "                continue\n",
    "            break\n",
    "        print(self.awake)\n",
    "        \n",
    "    \n",
    "    def train_human(self):\n",
    "        self.fighting_styles += ['kung fu', 'taekwando', 'drunken monk', 'aikido']\n",
    "        #fighting_styles = fighting_styles + []\n",
    "        print(f'You now know {self.fighting_styles}')\n",
    "        #  print(f'You now know {\" \".join(style for style in self.fighting_styles)}')\n",
    "        \n",
    "    def train_specific_style(self, style):\n",
    "        self.fighting_styles.append(style)\n",
    "        print(f'You now know {self.fighting_styles}')\n",
    "    \n",
    "    def enter_matrix(self):\n",
    "        while True:\n",
    "            answer = input(\"Are you ready to enter Matrix\").lower()\n",
    "            if answer == 'yes':\n",
    "                self.location = 1\n",
    "                print('plugging in, Enter Matrix')\n",
    "            elif answer == 'no':\n",
    "                print('Staying Put')\n",
    "                setattr(self, 'location',0)\n",
    "            else:\n",
    "                print('Please enter a valid response')\n",
    "                continue\n",
    "            break\n",
    "        print(f'{self.location= }')\n",
    "    \n",
    "    def exit_matrix(self):\n",
    "        print('Time to exist, phone ringing')\n",
    "        setattr('self, location', 0)\n",
    "        \n",
    "    \n",
    "human = HumanOfMatrixUniverse('Neo')\n",
    "\n",
    "#human.pill_decision()\n",
    "\n",
    "#human.train_human()\n",
    "#human.train_specific_style('bjj')\n",
    "\n",
    "#human.enter_matrix()\n",
    "\n",
    "human.driver()\n"
   ]
  },
  {
   "cell_type": "markdown",
   "metadata": {},
   "source": [
    "##### Calling"
   ]
  },
  {
   "cell_type": "code",
   "execution_count": null,
   "metadata": {},
   "outputs": [],
   "source": [
    "# See Above"
   ]
  },
  {
   "cell_type": "markdown",
   "metadata": {},
   "source": [
    "##### Modifying an Attribute's Value Through a Method"
   ]
  },
  {
   "cell_type": "code",
   "execution_count": null,
   "metadata": {},
   "outputs": [],
   "source": []
  },
  {
   "cell_type": "markdown",
   "metadata": {},
   "source": [
    "##### Incrementing an Attribute's Value Through a Method"
   ]
  },
  {
   "cell_type": "code",
   "execution_count": 56,
   "metadata": {},
   "outputs": [
    {
     "ename": "NameError",
     "evalue": "name 'current_year' is not defined",
     "output_type": "error",
     "traceback": [
      "\u001b[1;31m---------------------------------------------------------------------------\u001b[0m",
      "\u001b[1;31mNameError\u001b[0m                                 Traceback (most recent call last)",
      "Cell \u001b[1;32mIn[56], line 12\u001b[0m\n\u001b[0;32m      9\u001b[0m         \u001b[38;5;28mself\u001b[39m\u001b[38;5;241m.\u001b[39mage \u001b[38;5;241m+\u001b[39m\u001b[38;5;241m=\u001b[39m \u001b[38;5;241m1\u001b[39m\n\u001b[0;32m     10\u001b[0m         \u001b[38;5;28mprint\u001b[39m(\u001b[38;5;124mf\u001b[39m\u001b[38;5;124m'\u001b[39m\u001b[38;5;124mHappy Bday you are \u001b[39m\u001b[38;5;132;01m{\u001b[39;00m\u001b[38;5;28mself\u001b[39m\u001b[38;5;241m-\u001b[39mage\u001b[38;5;132;01m}\u001b[39;00m\u001b[38;5;124ms old\u001b[39m\u001b[38;5;124m'\u001b[39m)\n\u001b[1;32m---> 12\u001b[0m human \u001b[38;5;241m=\u001b[39m \u001b[43mHuman\u001b[49m\u001b[43m(\u001b[49m\u001b[38;5;124;43m'\u001b[39;49m\u001b[38;5;124;43msean\u001b[39;49m\u001b[38;5;124;43m'\u001b[39;49m\u001b[43m,\u001b[49m\u001b[43m \u001b[49m\u001b[38;5;241;43m1999\u001b[39;49m\u001b[43m)\u001b[49m\n\u001b[0;32m     14\u001b[0m human\u001b[38;5;241m.\u001b[39mbirthday()\n\u001b[0;32m     15\u001b[0m human\u001b[38;5;241m.\u001b[39mbirthday()\n",
      "Cell \u001b[1;32mIn[56], line 6\u001b[0m, in \u001b[0;36mHuman.__init__\u001b[1;34m(self, name, year_born)\u001b[0m\n\u001b[0;32m      4\u001b[0m \u001b[38;5;28mself\u001b[39m\u001b[38;5;241m.\u001b[39mname \u001b[38;5;241m=\u001b[39m name\n\u001b[0;32m      5\u001b[0m \u001b[38;5;28mself\u001b[39m\u001b[38;5;241m.\u001b[39myear_born \u001b[38;5;241m=\u001b[39m year_born\n\u001b[1;32m----> 6\u001b[0m \u001b[38;5;28mself\u001b[39m\u001b[38;5;241m.\u001b[39mage \u001b[38;5;241m=\u001b[39m \u001b[43mcurrent_year\u001b[49m \u001b[38;5;241m-\u001b[39m year_born\n",
      "\u001b[1;31mNameError\u001b[0m: name 'current_year' is not defined"
     ]
    }
   ],
   "source": [
    "class Human:\n",
    "    \n",
    "    def __init__(self, name, year_born):\n",
    "        self.name = name\n",
    "        self.year_born = year_born\n",
    "        self.age = current_year - year_born\n",
    "        \n",
    "    def birthday(self):\n",
    "        self.age += 1\n",
    "        print(f'Happy Bday you are {self-age}s old')\n",
    "        \n",
    "human = Human('sean', 1999)\n",
    "\n",
    "human.birthday()\n",
    "human.birthday()\n",
    "human.birthday()"
   ]
  },
  {
   "cell_type": "markdown",
   "metadata": {},
   "source": [
    "##### In-Class Exercise #3 - Add a method that takes in three parameters of year, doors and seats and prints out a formatted print statement with make, model, year, seats, and doors"
   ]
  },
  {
   "cell_type": "code",
   "execution_count": 87,
   "metadata": {},
   "outputs": [
    {
     "ename": "AttributeError",
     "evalue": "'Car' object has no attribute 'model'",
     "output_type": "error",
     "traceback": [
      "\u001b[1;31m---------------------------------------------------------------------------\u001b[0m",
      "\u001b[1;31mAttributeError\u001b[0m                            Traceback (most recent call last)",
      "Cell \u001b[1;32mIn[87], line 20\u001b[0m\n\u001b[0;32m     17\u001b[0m         \u001b[38;5;28mprint\u001b[39m(\u001b[38;5;124mf\u001b[39m\u001b[38;5;124m'\u001b[39m\u001b[38;5;124mThis car is from \u001b[39m\u001b[38;5;132;01m{\u001b[39;00m\u001b[38;5;28mself\u001b[39m\u001b[38;5;241m.\u001b[39myear\u001b[38;5;132;01m}\u001b[39;00m\u001b[38;5;124m \u001b[39m\u001b[38;5;132;01m{\u001b[39;00m\u001b[38;5;28mself\u001b[39m\u001b[38;5;241m.\u001b[39mmake\u001b[38;5;132;01m}\u001b[39;00m\u001b[38;5;124m \u001b[39m\u001b[38;5;132;01m{\u001b[39;00m\u001b[38;5;28mself\u001b[39m\u001b[38;5;241m.\u001b[39mmodel\u001b[38;5;132;01m}\u001b[39;00m\u001b[38;5;124m and has \u001b[39m\u001b[38;5;132;01m{\u001b[39;00m\u001b[38;5;28mself\u001b[39m\u001b[38;5;241m.\u001b[39mdoors\u001b[38;5;132;01m}\u001b[39;00m\u001b[38;5;124m doors and \u001b[39m\u001b[38;5;132;01m{\u001b[39;00m\u001b[38;5;28mself\u001b[39m\u001b[38;5;241m.\u001b[39mseats\u001b[38;5;132;01m}\u001b[39;00m\u001b[38;5;124m seats\u001b[39m\u001b[38;5;124m'\u001b[39m)\n\u001b[0;32m     19\u001b[0m car_details \u001b[38;5;241m=\u001b[39m Car(\u001b[38;5;124m'\u001b[39m\u001b[38;5;124mMazda\u001b[39m\u001b[38;5;124m'\u001b[39m,\u001b[38;5;124m'\u001b[39m\u001b[38;5;124mCX-5\u001b[39m\u001b[38;5;124m'\u001b[39m)\n\u001b[1;32m---> 20\u001b[0m \u001b[43mcar_details\u001b[49m\u001b[38;5;241;43m.\u001b[39;49m\u001b[43mcar_info\u001b[49m\u001b[43m(\u001b[49m\u001b[38;5;241;43m2020\u001b[39;49m\u001b[43m,\u001b[49m\u001b[38;5;241;43m5\u001b[39;49m\u001b[43m,\u001b[49m\u001b[38;5;241;43m4\u001b[39;49m\u001b[43m)\u001b[49m\n",
      "Cell \u001b[1;32mIn[87], line 17\u001b[0m, in \u001b[0;36mCar.car_info\u001b[1;34m(self, year, doors, seats)\u001b[0m\n\u001b[0;32m     15\u001b[0m \u001b[38;5;28mself\u001b[39m\u001b[38;5;241m.\u001b[39mdoors \u001b[38;5;241m=\u001b[39m doors\n\u001b[0;32m     16\u001b[0m \u001b[38;5;28mself\u001b[39m\u001b[38;5;241m.\u001b[39mseats \u001b[38;5;241m=\u001b[39m seats\n\u001b[1;32m---> 17\u001b[0m \u001b[38;5;28mprint\u001b[39m(\u001b[38;5;124mf\u001b[39m\u001b[38;5;124m'\u001b[39m\u001b[38;5;124mThis car is from \u001b[39m\u001b[38;5;132;01m{\u001b[39;00m\u001b[38;5;28mself\u001b[39m\u001b[38;5;241m.\u001b[39myear\u001b[38;5;132;01m}\u001b[39;00m\u001b[38;5;124m \u001b[39m\u001b[38;5;132;01m{\u001b[39;00m\u001b[38;5;28mself\u001b[39m\u001b[38;5;241m.\u001b[39mmake\u001b[38;5;132;01m}\u001b[39;00m\u001b[38;5;124m \u001b[39m\u001b[38;5;132;01m{\u001b[39;00m\u001b[38;5;28mself\u001b[39m\u001b[38;5;241m.\u001b[39mmodel\u001b[38;5;132;01m}\u001b[39;00m\u001b[38;5;124m and has \u001b[39m\u001b[38;5;132;01m{\u001b[39;00m\u001b[38;5;28mself\u001b[39m\u001b[38;5;241m.\u001b[39mdoors\u001b[38;5;132;01m}\u001b[39;00m\u001b[38;5;124m doors and \u001b[39m\u001b[38;5;132;01m{\u001b[39;00m\u001b[38;5;28mself\u001b[39m\u001b[38;5;241m.\u001b[39mseats\u001b[38;5;132;01m}\u001b[39;00m\u001b[38;5;124m seats\u001b[39m\u001b[38;5;124m'\u001b[39m)\n",
      "\u001b[1;31mAttributeError\u001b[0m: 'Car' object has no attribute 'model'"
     ]
    }
   ],
   "source": [
    "#Create class with 2 paramters inside of the __init__ which are make and model\n",
    "\n",
    "# Inside of the Car class create a method that has 4 parameter in total (self,year,door,seats)\n",
    "\n",
    "# Output: This car is from 2019 and is a Ford Expolorer and has 4 doors and 5 seats\n",
    "\n",
    "class Car():\n",
    "    \n",
    "    def __init__ (self,make, model):\n",
    "        self.make = make\n",
    "        self.mode = model\n",
    "        \n",
    "    def car_info(self,year,doors,seats):\n",
    "        self.year = year\n",
    "        self.doors = doors\n",
    "        self.seats = seats\n",
    "        print(f'This car is from {self.year} {self.make} {self.model} and has {self.doors} doors and {self.seats} seats')\n",
    "    \n",
    "car_details = Car('Mazda','CX-5')\n",
    "car_details.car_info(2020,5,4)\n",
    "\n"
   ]
  },
  {
   "cell_type": "markdown",
   "metadata": {},
   "source": [
    "## Inheritance <br>\n",
    "<p>You can create a child-parent relationship between two classes by using inheritance. What this allows you to do is have overriding methods, but also inherit traits from the parent class. Think of it as an actual parent and child, the child will inherit the parent's genes, as will the classes in OOP</p>"
   ]
  },
  {
   "cell_type": "markdown",
   "metadata": {},
   "source": [
    "##### Syntax for Inheriting from a Parent Class"
   ]
  },
  {
   "cell_type": "code",
   "execution_count": 68,
   "metadata": {},
   "outputs": [
    {
     "name": "stdout",
     "output_type": "stream",
     "text": [
      "I am Barbarian\n",
      "Name: sam class: Barbarian stats: {'str': 10, 'dex': 10, 'charisma': 10}\n"
     ]
    }
   ],
   "source": [
    "class FantasyCharacter: \n",
    "    speed = 10\n",
    "    \n",
    "    def __init__(self,name,class_,stats):\n",
    "        self.name = name\n",
    "        self.class_ = class_\n",
    "        self.stats = stats\n",
    "        \n",
    "    def display_character(self):\n",
    "        print(f'Name: {self.name} class: {self.class_} stats: {self.stats}')\n",
    "        \n",
    "stats = {\n",
    "    'str':10,\n",
    "    'dex':10,\n",
    "    'charisma': 10\n",
    "}\n",
    "\n",
    "\n",
    "class Human(FantasyCharacter):\n",
    "    size = 'medium'\n",
    "    \n",
    "    \n",
    "    def display_character_class(self):\n",
    "        print(f'I am {self.class_}')\n",
    "        \n",
    "        \n",
    "human = Human('sam', 'Barbarian', stats)\n",
    "human.size\n",
    "human.speed\n",
    "\n",
    "human.display_character_class()\n",
    "human.display_character()\n",
    "        \n",
    "#fantasy_character = FantasyCharacter('Frodo' , 'Thief', stats)\n",
    "\n",
    "#fantasy_character.stats\n",
    "\n",
    "#fantasy_character.display_character()\n"
   ]
  },
  {
   "cell_type": "markdown",
   "metadata": {},
   "source": [
    "##### The \\__init\\__() Method for a Child Class - super()"
   ]
  },
  {
   "cell_type": "code",
   "execution_count": 73,
   "metadata": {
    "scrolled": true
   },
   "outputs": [
    {
     "name": "stdout",
     "output_type": "stream",
     "text": [
      "Name: bilbo class: thief stats: {'str': 10, 'dex': 10, 'charisma': 10}\n"
     ]
    }
   ],
   "source": [
    "class Hobbit(FantasyCharacter):\n",
    "    size = 'small'\n",
    "    speed = 12\n",
    "    grand_parent = True\n",
    "    \n",
    "    def __init__(self, name, class_, stats, height):\n",
    "        super().__init__(name, class_,stats)\n",
    "        self.height = height\n",
    "        \n",
    "    def display_my_class(self):\n",
    "        print(f'I am {self.class_}')\n",
    "        \n",
    "bilbo = Hobbit('bilbo', 'thief', stats, '3ft')\n",
    "\n",
    "bilbo.size\n",
    "\n",
    "bilbo.speed\n",
    "\n",
    "bilbo.height\n",
    "\n",
    "bilbo.display_character()"
   ]
  },
  {
   "cell_type": "markdown",
   "metadata": {},
   "source": [
    "##### Defining Attributes and Methods for the Child Class"
   ]
  },
  {
   "cell_type": "code",
   "execution_count": null,
   "metadata": {},
   "outputs": [],
   "source": [
    "# See Above"
   ]
  },
  {
   "cell_type": "markdown",
   "metadata": {},
   "source": [
    "##### Method Overriding"
   ]
  },
  {
   "cell_type": "code",
   "execution_count": 75,
   "metadata": {},
   "outputs": [
    {
     "name": "stdout",
     "output_type": "stream",
     "text": [
      "Stout Hobbit. override\n"
     ]
    }
   ],
   "source": [
    "class StoutHobbit(Hobbit):\n",
    "    \n",
    "    def __init__(self, name, class_, stats, height, weight):\n",
    "        super().__init__(name, class_, stats, height)\n",
    "        self.weight = weight\n",
    "        \n",
    "    def display_my_class(self):\n",
    "        print(\"Stout Hobbit. override\")\n",
    "        \n",
    "sam = StoutHobbit ('sam', 'Barbarian', stats, '3ft', 120)\n",
    "\n",
    "sam.speed\n",
    "sam.grand_parent\n",
    "\n",
    "sam.display_my_class()"
   ]
  },
  {
   "cell_type": "markdown",
   "metadata": {},
   "source": [
    "## Classes as Attributes <br>\n",
    "<p>Classes can also be used as attributes within another class. This is useful in situations where you need to keep variables locally stored, instead of globally stored.</p>"
   ]
  },
  {
   "cell_type": "code",
   "execution_count": 81,
   "metadata": {},
   "outputs": [
    {
     "name": "stdout",
     "output_type": "stream",
     "text": [
      "12\n"
     ]
    },
    {
     "data": {
      "text/plain": [
       "1"
      ]
     },
     "execution_count": 81,
     "metadata": {},
     "output_type": "execute_result"
    }
   ],
   "source": [
    "class Stats():\n",
    "    def __init__(self, strength=10,dexerity=10, constitution=10, wisdom=10, intellegence=10, charisma=10):\n",
    "        self.strength = strength\n",
    "        self.dexerity = dexerity\n",
    "        self.constitution = constitution\n",
    "        self.wisdom = wisdom\n",
    "        self.intelegence = intellegence\n",
    "        self.charisma = charisma\n",
    "        \n",
    "    def determine_buff(self, stat):\n",
    "        if getattr(self,stat) > 10:\n",
    "            return 1\n",
    "        elif getattr(self,stat) > 10:\n",
    "            return -1\n",
    "        \n",
    "frodo = StoutHobbit('frodo', 'wizard', Stats(12), '3ft', 150)\n",
    "print(frodo.stats.strength)\n",
    "frodo.stats.determine_buff('strength')"
   ]
  },
  {
   "cell_type": "code",
   "execution_count": 84,
   "metadata": {},
   "outputs": [
    {
     "name": "stdout",
     "output_type": "stream",
     "text": [
      "<__main__.Stats object at 0x00000206068A77F0>\n",
      "<__main__.Stats object at 0x00000206068A77F0>\n"
     ]
    },
    {
     "data": {
      "text/plain": [
       "1"
      ]
     },
     "execution_count": 84,
     "metadata": {},
     "output_type": "execute_result"
    }
   ],
   "source": [
    "aragorn_stats = Stats(17, 20, 20,19,19,20)\n",
    "\n",
    "human = Human('aragorn', 'ranger',aragorn_stats)\n",
    "\n",
    "print(human.stats)\n",
    "print(aragorn_stats)\n",
    "\n",
    "human.stats.determine_buff('dexerity')"
   ]
  },
  {
   "cell_type": "markdown",
   "metadata": {},
   "source": [
    "# Exercises"
   ]
  },
  {
   "cell_type": "markdown",
   "metadata": {},
   "source": [
    "### Exercise 1 - Turn the shopping cart program from yesterday into an object-oriented program\n",
    "\n",
    "The comments in the cell below are there as a guide for thinking about the problem. However, if you feel a different way is best for you and your own thought process, please do what feels best for you by all means."
   ]
  },
  {
   "cell_type": "code",
   "execution_count": 122,
   "metadata": {},
   "outputs": [
    {
     "name": "stdout",
     "output_type": "stream",
     "text": [
      "Please choose an option. Enter one of the following commands\n",
      " add or quit? add\n",
      " Enter item to add: bread\n",
      "Enter an option. You can enter one of the following (without the quotes): 'add', 'show', 'delete', or 'quit' show\n",
      "['bread']\n",
      "Enter an option. You can enter one of the following (without the quotes): 'add', 'show', 'delete', or 'quit' dog food\n",
      "Enter an option. You can enter one of the following (without the quotes): 'add', 'show', 'delete', or 'quit' add\n",
      " Enter item to add: dog foof\n",
      "Enter an option. You can enter one of the following (without the quotes): 'add', 'show', 'delete', or 'quit' s\n",
      "['bread', 'dog foof']\n",
      "Enter an option. You can enter one of the following (without the quotes): 'add', 'show', 'delete', or 'quit' a\n",
      " Enter item to add: cheese\n",
      "Enter an option. You can enter one of the following (without the quotes): 'add', 'show', 'delete', or 'quit' d\n",
      " Enter an item to delete: bread\n",
      "Enter an option. You can enter one of the following (without the quotes): 'add', 'show', 'delete', or 'quit' s\n",
      "['dog foof', 'cheese']\n",
      "Enter an option. You can enter one of the following (without the quotes): 'add', 'show', 'delete', or 'quit' quit\n",
      "['dog foof', 'cheese']\n"
     ]
    }
   ],
   "source": [
    "# Create a class called cart that retains items and has methods to add, remove, and show\n",
    "\n",
    "class Cart():\n",
    "   \n",
    "    def __init__(self):\n",
    "        self.items_list = []\n",
    "    \n",
    "        self.user_quit = False\n",
    "    \n",
    "        self.user_input=\"\"\n",
    "       \n",
    "    \n",
    "    def driver(self):\n",
    "        print(\"Please choose an option. Enter one of the following commands\")\n",
    "        self.user_quit = False\n",
    "        while self.user_quit != True:\n",
    "            if len(self.items_list) == 0:\n",
    "                self.user_input = input(\" add or quit? \").lower()\n",
    "                if self.user_input not in [\"a\", \"q\", \"add\", \"quit\"]:\n",
    "                    print(\"Invalid input\")\n",
    "                    continue\n",
    "            else:\n",
    "                self.user_input = input(\"Enter an option. You can enter one of the following (without the quotes): 'add', 'show', 'delete', or 'quit' \" ).lower()\n",
    "            #if user_input = add, add an item to list\n",
    "            if self.user_input == 'add' or self.user_input == 'a':\n",
    "                self.add_item()\n",
    "            #elif user_input = show, print list\n",
    "            elif self.user_input == 'show' or self.user_input == 's':\n",
    "                self.show_item()\n",
    "            #elif user_input = delete, delete an item from list\n",
    "            elif self.user_input == 'delete' or self.user_input == 'd':\n",
    "                self.remove_item()\n",
    "            #elif user_input = quit, quit the program\n",
    "            elif self.user_input == 'quit' or self.user_input == 'q':\n",
    "                self.user_quit = True\n",
    "        print(self.items_list)\n",
    "                       \n",
    "    def add_item(self):\n",
    "        added_item = input(\" Enter item to add: \").lower()\n",
    "        self.items_list.append(added_item)\n",
    "        \n",
    "    \n",
    "    def remove_item(self):\n",
    "        delete_item = input(\" Enter an item to delete: \").lower()\n",
    "        if delete_item in self.items_list:\n",
    "            self.items_list.remove(delete_item)\n",
    "        else:\n",
    "            print(\"Item does not exist\")\n",
    "        \n",
    "    \n",
    "    def show_item(self):\n",
    "        print(self.items_list)\n",
    "        \n",
    "    \n",
    "my_cart = Cart()\n",
    "my_cart.driver()"
   ]
  },
  {
   "cell_type": "markdown",
   "metadata": {},
   "source": [
    "### Exercise 2 - Write a Python class which has two methods get_String and print_String. get_String accept a string from the user and print_String print the string in upper case"
   ]
  },
  {
   "cell_type": "code",
   "execution_count": 101,
   "metadata": {},
   "outputs": [
    {
     "name": "stdout",
     "output_type": "stream",
     "text": [
      "Type in a string horse\n",
      "HORSE\n"
     ]
    }
   ],
   "source": [
    "class MyStrings():\n",
    "    user_input = \"\"\n",
    "    def __init__(self):\n",
    "        pass\n",
    "\n",
    "    def get_String(self):\n",
    "        self.user_input = input(\"Type in a string \")\n",
    "    \n",
    "    def print_String(self):\n",
    "        print(self.user_input.upper())\n",
    "    \n",
    "my_strings = MyStrings()\n",
    "my_strings.get_String()\n",
    "my_strings.print_String()"
   ]
  },
  {
   "cell_type": "code",
   "execution_count": null,
   "metadata": {},
   "outputs": [],
   "source": []
  },
  {
   "cell_type": "code",
   "execution_count": null,
   "metadata": {},
   "outputs": [],
   "source": []
  }
 ],
 "metadata": {
  "kernelspec": {
   "display_name": "Python 3 (ipykernel)",
   "language": "python",
   "name": "python3"
  },
  "language_info": {
   "codemirror_mode": {
    "name": "ipython",
    "version": 3
   },
   "file_extension": ".py",
   "mimetype": "text/x-python",
   "name": "python",
   "nbconvert_exporter": "python",
   "pygments_lexer": "ipython3",
   "version": "3.10.9"
  }
 },
 "nbformat": 4,
 "nbformat_minor": 2
}
